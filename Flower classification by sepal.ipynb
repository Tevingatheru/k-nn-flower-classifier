{
 "cells": [
  {
   "cell_type": "markdown",
   "id": "9d646a9e",
   "metadata": {},
   "source": [
    "# K-NN\n",
    "This code snippet demonstrates the implementation of the **K-Nearest Neighbors** (K-NN) classification algorithm for a dataset of flower species based on sepal length and sepal width. The code begins by setting up the necessary libraries and loading the dataset from a CSV file. It then preprocesses the data, standardizes the features, and creates a K-NN classifier using the **Euclidean** distance metric. After training the model, it predicts the flower species for a new sample. The code also includes evaluation metrics like confusion matrix and F1 score to assess the model's performance. The accuracy of the model is calculated as well. Overall, this code showcases how to use the K-NN algorithm for classification and assess its effectiveness in a supervised machine learning context."
   ]
  },
  {
   "cell_type": "markdown",
   "id": "e82f8d6e",
   "metadata": {},
   "source": [
    "# Set up\n",
    "## import libraries\n",
    "\n",
    "Import the necessary libraries"
   ]
  },
  {
   "cell_type": "code",
   "execution_count": 1,
   "id": "7e363beb",
   "metadata": {},
   "outputs": [],
   "source": [
    "\n",
    "import pandas as pandas  # For data manipulation using DataFrames\n",
    "import numpy as numpy  # For numerical operations and array handling\n",
    "from sklearn.model_selection import train_test_split  # For splitting data into training and testing sets\n",
    "from sklearn.preprocessing import StandardScaler  # For standardizing (scaling) features\n",
    "from sklearn.neighbors import KNeighborsClassifier  # For implementing the K-Nearest Neighbors (K-NN) classifier\n",
    "from sklearn.metrics import (\n",
    "    confusion_matrix,  # For calculating a confusion matrix\n",
    "    f1_score,  # For computing the F1 score\n",
    "    accuracy_score  # For calculating the accuracy of the model\n",
    ")\n",
    "from sklearn.metrics.pairwise import euclidean_distances  # For calculating Euclidean distances\n",
    "\n",
    "\n"
   ]
  },
  {
   "cell_type": "code",
   "execution_count": 2,
   "id": "77b23c93",
   "metadata": {},
   "outputs": [],
   "source": [
    "# read csv\n",
    "dataset_df = pandas.read_csv('resources/flowers.csv')"
   ]
  },
  {
   "cell_type": "code",
   "execution_count": 3,
   "id": "5d7ed3be",
   "metadata": {},
   "outputs": [
    {
     "data": {
      "text/html": [
       "<div>\n",
       "<style scoped>\n",
       "    .dataframe tbody tr th:only-of-type {\n",
       "        vertical-align: middle;\n",
       "    }\n",
       "\n",
       "    .dataframe tbody tr th {\n",
       "        vertical-align: top;\n",
       "    }\n",
       "\n",
       "    .dataframe thead th {\n",
       "        text-align: right;\n",
       "    }\n",
       "</style>\n",
       "<table border=\"1\" class=\"dataframe\">\n",
       "  <thead>\n",
       "    <tr style=\"text-align: right;\">\n",
       "      <th></th>\n",
       "      <th>Sepal Length</th>\n",
       "      <th>Sepal Width</th>\n",
       "      <th>Species</th>\n",
       "    </tr>\n",
       "  </thead>\n",
       "  <tbody>\n",
       "    <tr>\n",
       "      <th>0</th>\n",
       "      <td>5.4</td>\n",
       "      <td>3.9</td>\n",
       "      <td>Setosa</td>\n",
       "    </tr>\n",
       "    <tr>\n",
       "      <th>1</th>\n",
       "      <td>5.1</td>\n",
       "      <td>3.8</td>\n",
       "      <td>Setosa</td>\n",
       "    </tr>\n",
       "    <tr>\n",
       "      <th>2</th>\n",
       "      <td>5.3</td>\n",
       "      <td>3.7</td>\n",
       "      <td>Setosa</td>\n",
       "    </tr>\n",
       "    <tr>\n",
       "      <th>3</th>\n",
       "      <td>5.4</td>\n",
       "      <td>3.4</td>\n",
       "      <td>Setosa</td>\n",
       "    </tr>\n",
       "    <tr>\n",
       "      <th>4</th>\n",
       "      <td>5.1</td>\n",
       "      <td>3.3</td>\n",
       "      <td>Setosa</td>\n",
       "    </tr>\n",
       "  </tbody>\n",
       "</table>\n",
       "</div>"
      ],
      "text/plain": [
       "   Sepal Length  Sepal Width Species\n",
       "0           5.4          3.9  Setosa\n",
       "1           5.1          3.8  Setosa\n",
       "2           5.3          3.7  Setosa\n",
       "3           5.4          3.4  Setosa\n",
       "4           5.1          3.3  Setosa"
      ]
     },
     "execution_count": 3,
     "metadata": {},
     "output_type": "execute_result"
    }
   ],
   "source": [
    "# display table structure\n",
    "dataset_df.head()"
   ]
  },
  {
   "cell_type": "code",
   "execution_count": 4,
   "id": "3b135e28",
   "metadata": {},
   "outputs": [
    {
     "name": "stdout",
     "output_type": "stream",
     "text": [
      "Index(['Sepal Length', 'Sepal Width', 'Species'], dtype='object')\n"
     ]
    }
   ],
   "source": [
    "# Check Column Names\n",
    "print(dataset_df.columns)"
   ]
  },
  {
   "cell_type": "code",
   "execution_count": 5,
   "id": "d8ababd0",
   "metadata": {},
   "outputs": [
    {
     "name": "stdout",
     "output_type": "stream",
     "text": [
      "       Sepal Length  Sepal Width\n",
      "count     15.000000    15.000000\n",
      "mean       5.953333     2.986667\n",
      "std        0.809644     0.518055\n",
      "min        5.100000     2.300000\n",
      "25%        5.350000     2.600000\n",
      "50%        5.800000     2.800000\n",
      "75%        6.300000     3.350000\n",
      "max        7.400000     3.900000\n"
     ]
    }
   ],
   "source": [
    "# Summary statistics\n",
    "print(dataset_df[[\"Sepal Length\", \"Sepal Width\"]].describe())\n",
    "\n"
   ]
  },
  {
   "cell_type": "code",
   "execution_count": 6,
   "id": "cf4a496e",
   "metadata": {},
   "outputs": [
    {
     "name": "stdout",
     "output_type": "stream",
     "text": [
      "Sepal Length    float64\n",
      "Sepal Width     float64\n",
      "dtype: object\n"
     ]
    }
   ],
   "source": [
    "#Check Data Types\n",
    "print(dataset_df[[\"Sepal Length\", \"Sepal Width\"]].dtypes)\n"
   ]
  },
  {
   "cell_type": "code",
   "execution_count": 7,
   "id": "424c8643",
   "metadata": {},
   "outputs": [],
   "source": [
    "# Select the features (sepal length and sepal width)\n",
    "x = dataset_df.iloc[:, 0:2]\n",
    "\n",
    "# Select the target variable (species)\n",
    "y = dataset_df.iloc[:, 2]\n",
    "\n",
    "# Split the dataset into a training set and a test set\n",
    "x_train, x_test, y_train, y_test = train_test_split(x, y, random_state=42, test_size=0.2)\n"
   ]
  },
  {
   "cell_type": "code",
   "execution_count": 8,
   "id": "0ed606e2",
   "metadata": {},
   "outputs": [],
   "source": [
    "# Standardize the features\n",
    "scaler = StandardScaler()\n",
    "x_train = scaler.fit_transform(x_train)\n",
    "x_test = scaler.transform(x_test)\n"
   ]
  },
  {
   "cell_type": "code",
   "execution_count": 9,
   "id": "373a94e8",
   "metadata": {},
   "outputs": [],
   "source": [
    "# Create the KNN classifier\n",
    "knn_euclidean_classifier = KNeighborsClassifier(n_neighbors = 3, p = 2, metric = 'euclidean')"
   ]
  },
  {
   "cell_type": "code",
   "execution_count": 10,
   "id": "21bd6dd9",
   "metadata": {},
   "outputs": [
    {
     "data": {
      "text/html": [
       "<style>#sk-container-id-1 {color: black;}#sk-container-id-1 pre{padding: 0;}#sk-container-id-1 div.sk-toggleable {background-color: white;}#sk-container-id-1 label.sk-toggleable__label {cursor: pointer;display: block;width: 100%;margin-bottom: 0;padding: 0.3em;box-sizing: border-box;text-align: center;}#sk-container-id-1 label.sk-toggleable__label-arrow:before {content: \"▸\";float: left;margin-right: 0.25em;color: #696969;}#sk-container-id-1 label.sk-toggleable__label-arrow:hover:before {color: black;}#sk-container-id-1 div.sk-estimator:hover label.sk-toggleable__label-arrow:before {color: black;}#sk-container-id-1 div.sk-toggleable__content {max-height: 0;max-width: 0;overflow: hidden;text-align: left;background-color: #f0f8ff;}#sk-container-id-1 div.sk-toggleable__content pre {margin: 0.2em;color: black;border-radius: 0.25em;background-color: #f0f8ff;}#sk-container-id-1 input.sk-toggleable__control:checked~div.sk-toggleable__content {max-height: 200px;max-width: 100%;overflow: auto;}#sk-container-id-1 input.sk-toggleable__control:checked~label.sk-toggleable__label-arrow:before {content: \"▾\";}#sk-container-id-1 div.sk-estimator input.sk-toggleable__control:checked~label.sk-toggleable__label {background-color: #d4ebff;}#sk-container-id-1 div.sk-label input.sk-toggleable__control:checked~label.sk-toggleable__label {background-color: #d4ebff;}#sk-container-id-1 input.sk-hidden--visually {border: 0;clip: rect(1px 1px 1px 1px);clip: rect(1px, 1px, 1px, 1px);height: 1px;margin: -1px;overflow: hidden;padding: 0;position: absolute;width: 1px;}#sk-container-id-1 div.sk-estimator {font-family: monospace;background-color: #f0f8ff;border: 1px dotted black;border-radius: 0.25em;box-sizing: border-box;margin-bottom: 0.5em;}#sk-container-id-1 div.sk-estimator:hover {background-color: #d4ebff;}#sk-container-id-1 div.sk-parallel-item::after {content: \"\";width: 100%;border-bottom: 1px solid gray;flex-grow: 1;}#sk-container-id-1 div.sk-label:hover label.sk-toggleable__label {background-color: #d4ebff;}#sk-container-id-1 div.sk-serial::before {content: \"\";position: absolute;border-left: 1px solid gray;box-sizing: border-box;top: 0;bottom: 0;left: 50%;z-index: 0;}#sk-container-id-1 div.sk-serial {display: flex;flex-direction: column;align-items: center;background-color: white;padding-right: 0.2em;padding-left: 0.2em;position: relative;}#sk-container-id-1 div.sk-item {position: relative;z-index: 1;}#sk-container-id-1 div.sk-parallel {display: flex;align-items: stretch;justify-content: center;background-color: white;position: relative;}#sk-container-id-1 div.sk-item::before, #sk-container-id-1 div.sk-parallel-item::before {content: \"\";position: absolute;border-left: 1px solid gray;box-sizing: border-box;top: 0;bottom: 0;left: 50%;z-index: -1;}#sk-container-id-1 div.sk-parallel-item {display: flex;flex-direction: column;z-index: 1;position: relative;background-color: white;}#sk-container-id-1 div.sk-parallel-item:first-child::after {align-self: flex-end;width: 50%;}#sk-container-id-1 div.sk-parallel-item:last-child::after {align-self: flex-start;width: 50%;}#sk-container-id-1 div.sk-parallel-item:only-child::after {width: 0;}#sk-container-id-1 div.sk-dashed-wrapped {border: 1px dashed gray;margin: 0 0.4em 0.5em 0.4em;box-sizing: border-box;padding-bottom: 0.4em;background-color: white;}#sk-container-id-1 div.sk-label label {font-family: monospace;font-weight: bold;display: inline-block;line-height: 1.2em;}#sk-container-id-1 div.sk-label-container {text-align: center;}#sk-container-id-1 div.sk-container {/* jupyter's `normalize.less` sets `[hidden] { display: none; }` but bootstrap.min.css set `[hidden] { display: none !important; }` so we also need the `!important` here to be able to override the default hidden behavior on the sphinx rendered scikit-learn.org. See: https://github.com/scikit-learn/scikit-learn/issues/21755 */display: inline-block !important;position: relative;}#sk-container-id-1 div.sk-text-repr-fallback {display: none;}</style><div id=\"sk-container-id-1\" class=\"sk-top-container\"><div class=\"sk-text-repr-fallback\"><pre>KNeighborsClassifier(metric=&#x27;euclidean&#x27;, n_neighbors=3)</pre><b>In a Jupyter environment, please rerun this cell to show the HTML representation or trust the notebook. <br />On GitHub, the HTML representation is unable to render, please try loading this page with nbviewer.org.</b></div><div class=\"sk-container\" hidden><div class=\"sk-item\"><div class=\"sk-estimator sk-toggleable\"><input class=\"sk-toggleable__control sk-hidden--visually\" id=\"sk-estimator-id-1\" type=\"checkbox\" checked><label for=\"sk-estimator-id-1\" class=\"sk-toggleable__label sk-toggleable__label-arrow\">KNeighborsClassifier</label><div class=\"sk-toggleable__content\"><pre>KNeighborsClassifier(metric=&#x27;euclidean&#x27;, n_neighbors=3)</pre></div></div></div></div></div>"
      ],
      "text/plain": [
       "KNeighborsClassifier(metric='euclidean', n_neighbors=3)"
      ]
     },
     "execution_count": 10,
     "metadata": {},
     "output_type": "execute_result"
    }
   ],
   "source": [
    "# Train the KNN model\n",
    "knn_euclidean_classifier.fit(x_train, y_train)"
   ]
  },
  {
   "cell_type": "code",
   "execution_count": 11,
   "id": "562daf47",
   "metadata": {},
   "outputs": [
    {
     "name": "stdout",
     "output_type": "stream",
     "text": [
      "['Versicolor' 'Versicolor' 'Setosa']\n"
     ]
    }
   ],
   "source": [
    "# predict\n",
    "y_predict = knn_euclidean_classifier.predict(x_test)\n",
    "\n",
    "print(y_predict)"
   ]
  },
  {
   "cell_type": "code",
   "execution_count": 12,
   "id": "b7f4d7b4",
   "metadata": {},
   "outputs": [],
   "source": [
    "# Sample 1\n",
    "new_flower = pandas.DataFrame(data=[[5.2, 3.1]], columns=[\"Sepal Length\", \"Sepal Width\"])\n",
    "new_flower = scaler.transform(new_flower)\n",
    "\n",
    "predicted_species = knn_euclidean_classifier.predict(new_flower)"
   ]
  },
  {
   "cell_type": "code",
   "execution_count": 13,
   "id": "5a92a007",
   "metadata": {},
   "outputs": [],
   "source": [
    "# Sample 2\n",
    "\n",
    "# newer_flower = numpy.array([[5.5, 2.4]])\n",
    "# newer_flower = {\"Sepal Length\": [5.2], \"Sepal Width\": [3.1]}\n",
    "# predicted_species = knn_euclidean_classifier.predict(newer_flower)\n",
    "# print(newer_flower)"
   ]
  },
  {
   "cell_type": "code",
   "execution_count": 14,
   "id": "555de161",
   "metadata": {},
   "outputs": [
    {
     "data": {
      "text/plain": [
       "array(['Setosa'], dtype=object)"
      ]
     },
     "execution_count": 14,
     "metadata": {},
     "output_type": "execute_result"
    }
   ],
   "source": [
    "predicted_species"
   ]
  },
  {
   "cell_type": "code",
   "execution_count": 15,
   "id": "3a3f7a2b",
   "metadata": {},
   "outputs": [
    {
     "name": "stdout",
     "output_type": "stream",
     "text": [
      "(12, 2)\n"
     ]
    }
   ],
   "source": [
    "#check shape\n",
    "print(x_train.shape)"
   ]
  },
  {
   "cell_type": "code",
   "execution_count": 16,
   "id": "356f3ebe",
   "metadata": {},
   "outputs": [
    {
     "name": "stdout",
     "output_type": "stream",
     "text": [
      "Number of features used in training: 2\n"
     ]
    }
   ],
   "source": [
    "# check no of features\n",
    "print(\"Number of features used in training:\", knn_euclidean_classifier.n_features_in_)\n"
   ]
  },
  {
   "cell_type": "markdown",
   "id": "a24cf5de",
   "metadata": {},
   "source": [
    "# Evaluation"
   ]
  },
  {
   "cell_type": "code",
   "execution_count": 17,
   "id": "a1f22431",
   "metadata": {},
   "outputs": [
    {
     "name": "stdout",
     "output_type": "stream",
     "text": [
      "[[1 0 0]\n",
      " [0 1 0]\n",
      " [0 1 0]]\n"
     ]
    }
   ],
   "source": [
    "confusion_matrix_result = confusion_matrix(y_test, y_predict)\n",
    "\n",
    "print(confusion_matrix_result)\n"
   ]
  },
  {
   "cell_type": "code",
   "execution_count": 18,
   "id": "911c803a",
   "metadata": {},
   "outputs": [
    {
     "data": {
      "text/plain": [
       "0.6666666666666666"
      ]
     },
     "execution_count": 18,
     "metadata": {},
     "output_type": "execute_result"
    }
   ],
   "source": [
    "f1_score(y_test, y_predict, average='micro')\n"
   ]
  },
  {
   "cell_type": "code",
   "execution_count": 19,
   "id": "24ba067d",
   "metadata": {},
   "outputs": [
    {
     "data": {
      "text/plain": [
       "0.5555555555555555"
      ]
     },
     "execution_count": 19,
     "metadata": {},
     "output_type": "execute_result"
    }
   ],
   "source": [
    "f1_score(y_test, y_predict, average='macro')\n"
   ]
  },
  {
   "cell_type": "code",
   "execution_count": 20,
   "id": "65848063",
   "metadata": {},
   "outputs": [
    {
     "data": {
      "text/plain": [
       "0.5555555555555555"
      ]
     },
     "execution_count": 20,
     "metadata": {},
     "output_type": "execute_result"
    }
   ],
   "source": [
    "f1_score(y_test, y_predict, average='weighted')\n"
   ]
  },
  {
   "cell_type": "code",
   "execution_count": 21,
   "id": "beb8cee0",
   "metadata": {},
   "outputs": [
    {
     "name": "stdout",
     "output_type": "stream",
     "text": [
      "0.6666666666666666\n"
     ]
    }
   ],
   "source": [
    "# calculate accuracy of the model\n",
    "print(accuracy_score(y_test, y_predict))"
   ]
  },
  {
   "cell_type": "code",
   "execution_count": 22,
   "id": "7ea74acc",
   "metadata": {},
   "outputs": [
    {
     "name": "stdout",
     "output_type": "stream",
     "text": [
      "[[0.95061178]\n",
      " [1.81604411]\n",
      " [1.71954359]]\n"
     ]
    }
   ],
   "source": [
    "# Euclidean Distance\n",
    "\n",
    "distances = euclidean_distances(x_test, new_flower)\n",
    "print(distances)"
   ]
  },
  {
   "cell_type": "markdown",
   "id": "ae1c4d9a",
   "metadata": {},
   "source": [
    "If the result of numpy.argmin(distances) is 0, it means that the first element in your distances array is the nearest neighbor. In other words, the data point represented by index 0 in your dataset is the closest to the input data point based on the calculated Euclidean distances."
   ]
  },
  {
   "cell_type": "code",
   "execution_count": 23,
   "id": "cacd9310",
   "metadata": {},
   "outputs": [
    {
     "data": {
      "text/plain": [
       "0"
      ]
     },
     "execution_count": 23,
     "metadata": {},
     "output_type": "execute_result"
    }
   ],
   "source": [
    "# Find the index of the nearest neighbor\n",
    "# also refered to as rank.\n",
    "nearest_neighbor_index = numpy.argmin(distances)\n",
    "nearest_neighbor_index"
   ]
  },
  {
   "cell_type": "code",
   "execution_count": 24,
   "id": "0d107a0e",
   "metadata": {
    "scrolled": true
   },
   "outputs": [
    {
     "name": "stdout",
     "output_type": "stream",
     "text": [
      "The predicted species for the flower [-0.9190984   0.28390938] is: Versicolor\n"
     ]
    }
   ],
   "source": [
    "# Get the predicted species for the nearest neighbor\n",
    "predicted_species_for_nearest = y_predict[nearest_neighbor_index]\n",
    "\n",
    "print(f\"The predicted species for the flower {new_flower[0]} is: {predicted_species_for_nearest}\")"
   ]
  },
  {
   "cell_type": "code",
   "execution_count": 25,
   "id": "bc7ddf29",
   "metadata": {},
   "outputs": [
    {
     "name": "stdout",
     "output_type": "stream",
     "text": [
      "Distances: [[0.44173174 0.68053462 1.23416596]]\n",
      "Indices of nearest neighbors: [[ 6 10  2]]\n"
     ]
    }
   ],
   "source": [
    "# Find the nearest neighbors and their distances\n",
    "distances_test, indices = knn_euclidean_classifier.kneighbors(new_flower)\n",
    "\n",
    "# 'distances' contains the distances from the new data point to its nearest neighbors\n",
    "# 'indices' contains the indices of the nearest neighbors in the dataset\n",
    "# Print the distances and indices\n",
    "\n",
    "print(\"Distances:\", distances_test)\n",
    "print(\"Indices of nearest neighbors:\", indices)"
   ]
  },
  {
   "cell_type": "code",
   "execution_count": 26,
   "id": "334a4a3f",
   "metadata": {},
   "outputs": [
    {
     "data": {
      "image/png": "[encoded data removed]",
      "text/plain": [
       "<Figure size 640x480 with 1 Axes>"
      ]
     },
     "metadata": {},
     "output_type": "display_data"
    }
   ],
   "source": [
    "import matplotlib.pyplot as plt\n",
    "\n",
    "# Plot the training data points\n",
    "plt.scatter(x_train[y_train == 'Setosa'][:, 0], x_train[y_train == 'Setosa'][:, 1], c='r', label='Setosa')\n",
    "plt.scatter(x_train[y_train == 'Versicolor'][:, 0], x_train[y_train == 'Versicolor'][:, 1], c='g', label='Versicolor')\n",
    "plt.scatter(x_train[y_train == 'Virginica'][:, 0], x_train[y_train == 'Virginica'][:, 1], c='b', label='Virginica')\n",
    "\n",
    "# Plot the new sample point\n",
    "plt.scatter(new_flower[:, 0], new_flower[:, 1], c='k', marker='x', label='New Sample')\n",
    "\n",
    "# Plot the nearest neighbors\n",
    "plt.scatter(x_train[indices[0], 0], x_train[indices[0], 1], c='y', marker='o', label='Nearest Neighbors')\n",
    "\n",
    "plt.xlabel('Sepal Length (Standardized)')\n",
    "plt.ylabel('Sepal Width (Standardized)')\n",
    "plt.title('K-Nearest Neighbors Classification')\n",
    "plt.legend()\n",
    "plt.show()\n"
   ]
  }
 ],
 "metadata": {
  "kernelspec": {
   "display_name": "Python 3 (ipykernel)",
   "language": "python",
   "name": "python3"
  },
  "language_info": {
   "codemirror_mode": {
    "name": "ipython",
    "version": 3
   },
   "file_extension": ".py",
   "mimetype": "text/x-python",
   "name": "python",
   "nbconvert_exporter": "python",
   "pygments_lexer": "ipython3",
   "version": "3.11.4"
  }
 },
 "nbformat": 4,
 "nbformat_minor": 5
}
